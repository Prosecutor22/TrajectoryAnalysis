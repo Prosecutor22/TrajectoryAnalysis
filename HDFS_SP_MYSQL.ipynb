{
 "cells": [
  {
   "cell_type": "code",
   "execution_count": 2,
   "id": "b093291c",
   "metadata": {},
   "outputs": [
    {
     "data": {
      "text/plain": [
       "'3.2.3'"
      ]
     },
     "execution_count": 2,
     "metadata": {},
     "output_type": "execute_result"
    }
   ],
   "source": [
    "import pyspark\n",
    "pyspark.__version__"
   ]
  },
  {
   "cell_type": "code",
   "execution_count": 1,
   "id": "eafda355",
   "metadata": {},
   "outputs": [],
   "source": [
    "from pyspark.sql import SparkSession\n",
    "from pyspark.sql import SQLContext\n",
    "from pyspark.sql.types import StructType\n",
    "from pyspark.sql import Row\n",
    "import pandas as pd\n",
    "from functools import reduce\n",
    "from sqlalchemy import create_engine\n",
    "import pymysql"
   ]
  },
  {
   "cell_type": "code",
   "execution_count": 3,
   "id": "5919b68f",
   "metadata": {},
   "outputs": [],
   "source": [
    "import time"
   ]
  },
  {
   "cell_type": "code",
   "execution_count": 4,
   "id": "f92e87f5",
   "metadata": {},
   "outputs": [
    {
     "name": "stderr",
     "output_type": "stream",
     "text": [
      "Picked up _JAVA_OPTIONS: -Xms1G -Xmx3G -Xss2048k\n",
      "Picked up _JAVA_OPTIONS: -Xms1G -Xmx3G -Xss2048k\n",
      "23/03/26 19:36:56 WARN Utils: Your hostname, pm-GL65-Leopard-10SCXK resolves to a loopback address: 127.0.1.1; using 192.168.1.112 instead (on interface enp3s0)\n",
      "23/03/26 19:36:56 WARN Utils: Set SPARK_LOCAL_IP if you need to bind to another address\n",
      "Using Spark's default log4j profile: org/apache/spark/log4j-defaults.properties\n",
      "Setting default log level to \"WARN\".\n",
      "To adjust logging level use sc.setLogLevel(newLevel). For SparkR, use setLogLevel(newLevel).\n",
      "23/03/26 19:36:57 WARN NativeCodeLoader: Unable to load native-hadoop library for your platform... using builtin-java classes where applicable\n"
     ]
    }
   ],
   "source": [
    "spark1 = SparkSession.builder.master(\"local\").appName(\"read_hdfs\").getOrCreate()"
   ]
  },
  {
   "cell_type": "code",
   "execution_count": 5,
   "id": "77f052dd",
   "metadata": {},
   "outputs": [],
   "source": [
    "sqlEngine1 = create_engine('mysql+pymysql://root:@127.0.0.1/trajectory')\n",
    "sqlEngine2 = create_engine('mysql+pymysql://root:@127.0.0.1/label')"
   ]
  },
  {
   "cell_type": "code",
   "execution_count": 6,
   "id": "54c1b9b3",
   "metadata": {},
   "outputs": [],
   "source": [
    "direc = []\n",
    "for k in range(182):\n",
    "    i = str(k)\n",
    "    if k < 10:\n",
    "        pdir = '00' + i\n",
    "    elif k < 100:\n",
    "        pdir = '0' + i\n",
    "    else:\n",
    "        pdir = i\n",
    "    direc.append(pdir)"
   ]
  },
  {
   "cell_type": "code",
   "execution_count": 7,
   "id": "c1029de3",
   "metadata": {},
   "outputs": [],
   "source": [
    "def getDir(k):\n",
    "    fulldir = 'hdfs://localhost:9000/DE/Data/' + direc[k] + '/Trajectory/*'\n",
    "    saveloc = \"user\" + direc[k]\n",
    "    return fulldir, saveloc"
   ]
  },
  {
   "cell_type": "code",
   "execution_count": 19,
   "id": "49c535b3",
   "metadata": {},
   "outputs": [],
   "source": [
    "def fileDir(k):\n",
    "    fulldir = 'hdfs://localhost:9000/DE/Data/' + direc[k] + '/labels.txt'\n",
    "    saveloc = \"user\" + direc[k]\n",
    "    return fulldir, saveloc"
   ]
  },
  {
   "cell_type": "code",
   "execution_count": 9,
   "id": "565ba1aa",
   "metadata": {},
   "outputs": [
    {
     "data": {
      "text/html": [
       "<div>\n",
       "<style scoped>\n",
       "    .dataframe tbody tr th:only-of-type {\n",
       "        vertical-align: middle;\n",
       "    }\n",
       "\n",
       "    .dataframe tbody tr th {\n",
       "        vertical-align: top;\n",
       "    }\n",
       "\n",
       "    .dataframe thead th {\n",
       "        text-align: right;\n",
       "    }\n",
       "</style>\n",
       "<table border=\"1\" class=\"dataframe\">\n",
       "  <thead>\n",
       "    <tr style=\"text-align: right;\">\n",
       "      <th></th>\n",
       "      <th>Latitude</th>\n",
       "      <th>Longitude</th>\n",
       "      <th>Altitude</th>\n",
       "      <th>UnixTime</th>\n",
       "      <th>Date</th>\n",
       "      <th>Time</th>\n",
       "    </tr>\n",
       "  </thead>\n",
       "  <tbody>\n",
       "  </tbody>\n",
       "</table>\n",
       "</div>"
      ],
      "text/plain": [
       "Empty DataFrame\n",
       "Columns: [Latitude, Longitude, Altitude, UnixTime, Date, Time]\n",
       "Index: []"
      ]
     },
     "execution_count": 9,
     "metadata": {},
     "output_type": "execute_result"
    }
   ],
   "source": [
    "df_traj = pd.DataFrame(columns=[\"Latitude\",\"Longitude\",\"Altitude\", \"UnixTime\",\"Date\",\"Time\"])\n",
    "df_traj"
   ]
  },
  {
   "cell_type": "code",
   "execution_count": 10,
   "id": "57fa6932",
   "metadata": {
    "scrolled": true
   },
   "outputs": [
    {
     "name": "stdout",
     "output_type": "stream",
     "text": [
      "hdfs://localhost:9000/DE/Data/000/Trajectory/*\n"
     ]
    },
    {
     "name": "stderr",
     "output_type": "stream",
     "text": [
      "                                                                                \r"
     ]
    },
    {
     "name": "stdout",
     "output_type": "stream",
     "text": [
      "hdfs://localhost:9000/DE/Data/001/Trajectory/*\n",
      "hdfs://localhost:9000/DE/Data/002/Trajectory/*\n",
      "hdfs://localhost:9000/DE/Data/003/Trajectory/*\n"
     ]
    },
    {
     "name": "stderr",
     "output_type": "stream",
     "text": [
      "\r",
      "[Stage 3:>                                                          (0 + 1) / 1]\r",
      "\r",
      "                                                                                \r"
     ]
    },
    {
     "name": "stdout",
     "output_type": "stream",
     "text": [
      "hdfs://localhost:9000/DE/Data/004/Trajectory/*\n"
     ]
    },
    {
     "name": "stderr",
     "output_type": "stream",
     "text": [
      "\r",
      "[Stage 4:>                                                          (0 + 1) / 1]\r",
      "\r",
      "                                                                                \r"
     ]
    },
    {
     "name": "stdout",
     "output_type": "stream",
     "text": [
      "hdfs://localhost:9000/DE/Data/005/Trajectory/*\n",
      "hdfs://localhost:9000/DE/Data/006/Trajectory/*\n",
      "hdfs://localhost:9000/DE/Data/007/Trajectory/*\n",
      "hdfs://localhost:9000/DE/Data/008/Trajectory/*\n",
      "hdfs://localhost:9000/DE/Data/009/Trajectory/*\n",
      "hdfs://localhost:9000/DE/Data/010/Trajectory/*\n",
      "hdfs://localhost:9000/DE/Data/011/Trajectory/*\n",
      "hdfs://localhost:9000/DE/Data/012/Trajectory/*\n",
      "hdfs://localhost:9000/DE/Data/013/Trajectory/*\n",
      "hdfs://localhost:9000/DE/Data/014/Trajectory/*\n",
      "hdfs://localhost:9000/DE/Data/015/Trajectory/*\n",
      "hdfs://localhost:9000/DE/Data/016/Trajectory/*\n",
      "hdfs://localhost:9000/DE/Data/017/Trajectory/*\n"
     ]
    },
    {
     "name": "stderr",
     "output_type": "stream",
     "text": [
      "                                                                                \r"
     ]
    },
    {
     "name": "stdout",
     "output_type": "stream",
     "text": [
      "hdfs://localhost:9000/DE/Data/018/Trajectory/*\n",
      "hdfs://localhost:9000/DE/Data/019/Trajectory/*\n",
      "hdfs://localhost:9000/DE/Data/020/Trajectory/*\n",
      "hdfs://localhost:9000/DE/Data/021/Trajectory/*\n",
      "hdfs://localhost:9000/DE/Data/022/Trajectory/*\n",
      "hdfs://localhost:9000/DE/Data/023/Trajectory/*\n",
      "hdfs://localhost:9000/DE/Data/024/Trajectory/*\n",
      "hdfs://localhost:9000/DE/Data/025/Trajectory/*\n"
     ]
    },
    {
     "name": "stderr",
     "output_type": "stream",
     "text": [
      "                                                                                \r"
     ]
    },
    {
     "name": "stdout",
     "output_type": "stream",
     "text": [
      "hdfs://localhost:9000/DE/Data/026/Trajectory/*\n",
      "hdfs://localhost:9000/DE/Data/027/Trajectory/*\n",
      "hdfs://localhost:9000/DE/Data/028/Trajectory/*\n",
      "hdfs://localhost:9000/DE/Data/029/Trajectory/*\n",
      "hdfs://localhost:9000/DE/Data/030/Trajectory/*\n",
      "hdfs://localhost:9000/DE/Data/031/Trajectory/*\n",
      "hdfs://localhost:9000/DE/Data/032/Trajectory/*\n",
      "hdfs://localhost:9000/DE/Data/033/Trajectory/*\n",
      "hdfs://localhost:9000/DE/Data/034/Trajectory/*\n",
      "hdfs://localhost:9000/DE/Data/035/Trajectory/*\n",
      "hdfs://localhost:9000/DE/Data/036/Trajectory/*\n",
      "hdfs://localhost:9000/DE/Data/037/Trajectory/*\n",
      "hdfs://localhost:9000/DE/Data/038/Trajectory/*\n",
      "hdfs://localhost:9000/DE/Data/039/Trajectory/*\n",
      "hdfs://localhost:9000/DE/Data/040/Trajectory/*\n",
      "hdfs://localhost:9000/DE/Data/041/Trajectory/*\n"
     ]
    },
    {
     "name": "stderr",
     "output_type": "stream",
     "text": [
      "                                                                                \r"
     ]
    },
    {
     "name": "stdout",
     "output_type": "stream",
     "text": [
      "hdfs://localhost:9000/DE/Data/042/Trajectory/*\n",
      "hdfs://localhost:9000/DE/Data/043/Trajectory/*\n",
      "hdfs://localhost:9000/DE/Data/044/Trajectory/*\n",
      "hdfs://localhost:9000/DE/Data/045/Trajectory/*\n",
      "hdfs://localhost:9000/DE/Data/046/Trajectory/*\n",
      "hdfs://localhost:9000/DE/Data/047/Trajectory/*\n",
      "hdfs://localhost:9000/DE/Data/048/Trajectory/*\n",
      "hdfs://localhost:9000/DE/Data/049/Trajectory/*\n",
      "hdfs://localhost:9000/DE/Data/050/Trajectory/*\n",
      "hdfs://localhost:9000/DE/Data/051/Trajectory/*\n",
      "hdfs://localhost:9000/DE/Data/052/Trajectory/*\n",
      "hdfs://localhost:9000/DE/Data/053/Trajectory/*\n",
      "hdfs://localhost:9000/DE/Data/054/Trajectory/*\n",
      "hdfs://localhost:9000/DE/Data/055/Trajectory/*\n",
      "hdfs://localhost:9000/DE/Data/056/Trajectory/*\n",
      "hdfs://localhost:9000/DE/Data/057/Trajectory/*\n",
      "hdfs://localhost:9000/DE/Data/058/Trajectory/*\n",
      "hdfs://localhost:9000/DE/Data/059/Trajectory/*\n",
      "hdfs://localhost:9000/DE/Data/060/Trajectory/*\n",
      "hdfs://localhost:9000/DE/Data/061/Trajectory/*\n",
      "hdfs://localhost:9000/DE/Data/062/Trajectory/*\n"
     ]
    },
    {
     "name": "stderr",
     "output_type": "stream",
     "text": [
      "\r",
      "[Stage 62:>                                                         (0 + 1) / 1]\r",
      "\r",
      "                                                                                \r"
     ]
    },
    {
     "name": "stdout",
     "output_type": "stream",
     "text": [
      "hdfs://localhost:9000/DE/Data/063/Trajectory/*\n",
      "hdfs://localhost:9000/DE/Data/064/Trajectory/*\n",
      "hdfs://localhost:9000/DE/Data/065/Trajectory/*\n",
      "hdfs://localhost:9000/DE/Data/066/Trajectory/*\n",
      "hdfs://localhost:9000/DE/Data/067/Trajectory/*\n",
      "hdfs://localhost:9000/DE/Data/068/Trajectory/*\n"
     ]
    },
    {
     "name": "stderr",
     "output_type": "stream",
     "text": [
      "                                                                                \r"
     ]
    },
    {
     "name": "stdout",
     "output_type": "stream",
     "text": [
      "hdfs://localhost:9000/DE/Data/069/Trajectory/*\n",
      "hdfs://localhost:9000/DE/Data/070/Trajectory/*\n",
      "hdfs://localhost:9000/DE/Data/071/Trajectory/*\n",
      "hdfs://localhost:9000/DE/Data/072/Trajectory/*\n",
      "hdfs://localhost:9000/DE/Data/073/Trajectory/*\n",
      "hdfs://localhost:9000/DE/Data/074/Trajectory/*\n",
      "hdfs://localhost:9000/DE/Data/075/Trajectory/*\n",
      "hdfs://localhost:9000/DE/Data/076/Trajectory/*\n",
      "hdfs://localhost:9000/DE/Data/077/Trajectory/*\n",
      "hdfs://localhost:9000/DE/Data/078/Trajectory/*\n",
      "hdfs://localhost:9000/DE/Data/079/Trajectory/*\n",
      "hdfs://localhost:9000/DE/Data/080/Trajectory/*\n",
      "hdfs://localhost:9000/DE/Data/081/Trajectory/*\n",
      "hdfs://localhost:9000/DE/Data/082/Trajectory/*\n",
      "hdfs://localhost:9000/DE/Data/083/Trajectory/*\n"
     ]
    },
    {
     "name": "stderr",
     "output_type": "stream",
     "text": [
      "\r",
      "[Stage 83:>                                                         (0 + 1) / 1]\r",
      "\r",
      "                                                                                \r"
     ]
    },
    {
     "name": "stdout",
     "output_type": "stream",
     "text": [
      "hdfs://localhost:9000/DE/Data/084/Trajectory/*\n",
      "hdfs://localhost:9000/DE/Data/085/Trajectory/*\n"
     ]
    },
    {
     "name": "stderr",
     "output_type": "stream",
     "text": [
      "\r",
      "[Stage 85:>                                                         (0 + 1) / 1]\r",
      "\r",
      "                                                                                \r"
     ]
    },
    {
     "name": "stdout",
     "output_type": "stream",
     "text": [
      "hdfs://localhost:9000/DE/Data/086/Trajectory/*\n",
      "hdfs://localhost:9000/DE/Data/087/Trajectory/*\n",
      "hdfs://localhost:9000/DE/Data/088/Trajectory/*\n",
      "hdfs://localhost:9000/DE/Data/089/Trajectory/*\n",
      "hdfs://localhost:9000/DE/Data/090/Trajectory/*\n",
      "hdfs://localhost:9000/DE/Data/091/Trajectory/*\n",
      "hdfs://localhost:9000/DE/Data/092/Trajectory/*\n",
      "hdfs://localhost:9000/DE/Data/093/Trajectory/*\n",
      "hdfs://localhost:9000/DE/Data/094/Trajectory/*\n",
      "hdfs://localhost:9000/DE/Data/095/Trajectory/*\n",
      "hdfs://localhost:9000/DE/Data/096/Trajectory/*\n",
      "hdfs://localhost:9000/DE/Data/097/Trajectory/*\n",
      "hdfs://localhost:9000/DE/Data/098/Trajectory/*\n",
      "hdfs://localhost:9000/DE/Data/099/Trajectory/*\n",
      "hdfs://localhost:9000/DE/Data/100/Trajectory/*\n",
      "hdfs://localhost:9000/DE/Data/101/Trajectory/*\n",
      "hdfs://localhost:9000/DE/Data/102/Trajectory/*\n",
      "hdfs://localhost:9000/DE/Data/103/Trajectory/*\n",
      "hdfs://localhost:9000/DE/Data/104/Trajectory/*\n",
      "hdfs://localhost:9000/DE/Data/105/Trajectory/*\n",
      "hdfs://localhost:9000/DE/Data/106/Trajectory/*\n",
      "hdfs://localhost:9000/DE/Data/107/Trajectory/*\n",
      "hdfs://localhost:9000/DE/Data/108/Trajectory/*\n",
      "hdfs://localhost:9000/DE/Data/109/Trajectory/*\n",
      "hdfs://localhost:9000/DE/Data/110/Trajectory/*\n",
      "hdfs://localhost:9000/DE/Data/111/Trajectory/*\n",
      "hdfs://localhost:9000/DE/Data/112/Trajectory/*\n",
      "hdfs://localhost:9000/DE/Data/113/Trajectory/*\n",
      "hdfs://localhost:9000/DE/Data/114/Trajectory/*\n",
      "hdfs://localhost:9000/DE/Data/115/Trajectory/*\n",
      "hdfs://localhost:9000/DE/Data/116/Trajectory/*\n",
      "hdfs://localhost:9000/DE/Data/117/Trajectory/*\n",
      "hdfs://localhost:9000/DE/Data/118/Trajectory/*\n",
      "hdfs://localhost:9000/DE/Data/119/Trajectory/*\n",
      "hdfs://localhost:9000/DE/Data/120/Trajectory/*\n",
      "hdfs://localhost:9000/DE/Data/121/Trajectory/*\n",
      "hdfs://localhost:9000/DE/Data/122/Trajectory/*\n",
      "hdfs://localhost:9000/DE/Data/123/Trajectory/*\n",
      "hdfs://localhost:9000/DE/Data/124/Trajectory/*\n",
      "hdfs://localhost:9000/DE/Data/125/Trajectory/*\n",
      "hdfs://localhost:9000/DE/Data/126/Trajectory/*\n",
      "hdfs://localhost:9000/DE/Data/127/Trajectory/*\n",
      "hdfs://localhost:9000/DE/Data/128/Trajectory/*\n"
     ]
    },
    {
     "name": "stderr",
     "output_type": "stream",
     "text": [
      "                                                                                \r"
     ]
    },
    {
     "name": "stdout",
     "output_type": "stream",
     "text": [
      "hdfs://localhost:9000/DE/Data/129/Trajectory/*\n",
      "hdfs://localhost:9000/DE/Data/130/Trajectory/*\n",
      "hdfs://localhost:9000/DE/Data/131/Trajectory/*\n",
      "hdfs://localhost:9000/DE/Data/132/Trajectory/*\n",
      "hdfs://localhost:9000/DE/Data/133/Trajectory/*\n",
      "hdfs://localhost:9000/DE/Data/134/Trajectory/*\n",
      "hdfs://localhost:9000/DE/Data/135/Trajectory/*\n",
      "hdfs://localhost:9000/DE/Data/136/Trajectory/*\n",
      "hdfs://localhost:9000/DE/Data/137/Trajectory/*\n",
      "hdfs://localhost:9000/DE/Data/138/Trajectory/*\n",
      "hdfs://localhost:9000/DE/Data/139/Trajectory/*\n",
      "hdfs://localhost:9000/DE/Data/140/Trajectory/*\n",
      "hdfs://localhost:9000/DE/Data/141/Trajectory/*\n",
      "hdfs://localhost:9000/DE/Data/142/Trajectory/*\n",
      "hdfs://localhost:9000/DE/Data/143/Trajectory/*\n",
      "hdfs://localhost:9000/DE/Data/144/Trajectory/*\n"
     ]
    },
    {
     "name": "stderr",
     "output_type": "stream",
     "text": [
      "                                                                                \r"
     ]
    },
    {
     "name": "stdout",
     "output_type": "stream",
     "text": [
      "hdfs://localhost:9000/DE/Data/145/Trajectory/*\n",
      "hdfs://localhost:9000/DE/Data/146/Trajectory/*\n",
      "hdfs://localhost:9000/DE/Data/147/Trajectory/*\n",
      "hdfs://localhost:9000/DE/Data/148/Trajectory/*\n",
      "hdfs://localhost:9000/DE/Data/149/Trajectory/*\n",
      "hdfs://localhost:9000/DE/Data/150/Trajectory/*\n",
      "hdfs://localhost:9000/DE/Data/151/Trajectory/*\n",
      "hdfs://localhost:9000/DE/Data/152/Trajectory/*\n",
      "hdfs://localhost:9000/DE/Data/153/Trajectory/*\n"
     ]
    },
    {
     "name": "stderr",
     "output_type": "stream",
     "text": [
      "                                                                                \r"
     ]
    },
    {
     "name": "stdout",
     "output_type": "stream",
     "text": [
      "hdfs://localhost:9000/DE/Data/154/Trajectory/*\n",
      "hdfs://localhost:9000/DE/Data/155/Trajectory/*\n",
      "hdfs://localhost:9000/DE/Data/156/Trajectory/*\n",
      "hdfs://localhost:9000/DE/Data/157/Trajectory/*\n",
      "hdfs://localhost:9000/DE/Data/158/Trajectory/*\n",
      "hdfs://localhost:9000/DE/Data/159/Trajectory/*\n",
      "hdfs://localhost:9000/DE/Data/160/Trajectory/*\n",
      "hdfs://localhost:9000/DE/Data/161/Trajectory/*\n",
      "hdfs://localhost:9000/DE/Data/162/Trajectory/*\n",
      "hdfs://localhost:9000/DE/Data/163/Trajectory/*\n"
     ]
    },
    {
     "name": "stderr",
     "output_type": "stream",
     "text": [
      "                                                                                \r"
     ]
    },
    {
     "name": "stdout",
     "output_type": "stream",
     "text": [
      "hdfs://localhost:9000/DE/Data/164/Trajectory/*\n",
      "hdfs://localhost:9000/DE/Data/165/Trajectory/*\n",
      "hdfs://localhost:9000/DE/Data/166/Trajectory/*\n",
      "hdfs://localhost:9000/DE/Data/167/Trajectory/*\n",
      "hdfs://localhost:9000/DE/Data/168/Trajectory/*\n",
      "hdfs://localhost:9000/DE/Data/169/Trajectory/*\n",
      "hdfs://localhost:9000/DE/Data/170/Trajectory/*\n",
      "hdfs://localhost:9000/DE/Data/171/Trajectory/*\n",
      "hdfs://localhost:9000/DE/Data/172/Trajectory/*\n",
      "hdfs://localhost:9000/DE/Data/173/Trajectory/*\n",
      "hdfs://localhost:9000/DE/Data/174/Trajectory/*\n",
      "hdfs://localhost:9000/DE/Data/175/Trajectory/*\n",
      "hdfs://localhost:9000/DE/Data/176/Trajectory/*\n",
      "hdfs://localhost:9000/DE/Data/177/Trajectory/*\n",
      "hdfs://localhost:9000/DE/Data/178/Trajectory/*\n",
      "hdfs://localhost:9000/DE/Data/179/Trajectory/*\n",
      "hdfs://localhost:9000/DE/Data/180/Trajectory/*\n",
      "hdfs://localhost:9000/DE/Data/181/Trajectory/*\n"
     ]
    }
   ],
   "source": [
    "start = time.time()\n",
    "for k in range(182):\n",
    "    directory, saveloc = getDir(k)\n",
    "    print(directory)\n",
    "    rdd = spark1.sparkContext.wholeTextFiles(directory)\n",
    "    rdd_val = rdd.values()\n",
    "    rdd_val = rdd_val.collect()\n",
    "    d = 0\n",
    "    lst = []\n",
    "    for tmp in rdd_val:\n",
    "        data = tmp.splitlines(True)\n",
    "        data = data[6:]\n",
    "        for i in range(len(data)):\n",
    "            tmpstr = data[i][:-2]\n",
    "            str = reduce(lambda prev, curr: prev + curr,'',tmpstr)\n",
    "            lst += [str.split(\",\")]\n",
    "    df = pd.DataFrame(lst, columns = [\"Latitude\",\"Longitude\",\"Nonuse\",\"Altitude\", \"UnixTime\",\"Date\",\"Time\"])\n",
    "    df[\"Latitude\"] = df[\"Latitude\"].astype(float)\n",
    "    df[\"Longitude\"] = df[\"Longitude\"].astype(float)\n",
    "    df[\"Altitude\"] = df[\"Altitude\"].astype(float)\n",
    "    df[\"UnixTime\"] = df[\"UnixTime\"].astype(float)\n",
    "    df = df.drop(\"Nonuse\", axis = 1)\n",
    "    df.to_sql(saveloc,sqlEngine1,if_exists='append')\n",
    "end = time.time()"
   ]
  },
  {
   "cell_type": "code",
   "execution_count": 12,
   "id": "fe42a58a",
   "metadata": {},
   "outputs": [
    {
     "data": {
      "text/plain": [
       "804.2190244197845"
      ]
     },
     "execution_count": 12,
     "metadata": {},
     "output_type": "execute_result"
    }
   ],
   "source": [
    "exec_time = end - start\n",
    "exec_time"
   ]
  },
  {
   "cell_type": "code",
   "execution_count": 29,
   "id": "9562b767",
   "metadata": {},
   "outputs": [
    {
     "name": "stdout",
     "output_type": "stream",
     "text": [
      "hdfs://localhost:9000/DE/Data/010/labels.txt\n",
      "hdfs://localhost:9000/DE/Data/020/labels.txt\n",
      "hdfs://localhost:9000/DE/Data/021/labels.txt\n",
      "hdfs://localhost:9000/DE/Data/052/labels.txt\n",
      "hdfs://localhost:9000/DE/Data/053/labels.txt\n",
      "hdfs://localhost:9000/DE/Data/056/labels.txt\n",
      "hdfs://localhost:9000/DE/Data/058/labels.txt\n",
      "hdfs://localhost:9000/DE/Data/059/labels.txt\n",
      "hdfs://localhost:9000/DE/Data/060/labels.txt\n",
      "hdfs://localhost:9000/DE/Data/062/labels.txt\n",
      "hdfs://localhost:9000/DE/Data/064/labels.txt\n",
      "hdfs://localhost:9000/DE/Data/065/labels.txt\n",
      "hdfs://localhost:9000/DE/Data/067/labels.txt\n",
      "hdfs://localhost:9000/DE/Data/068/labels.txt\n",
      "hdfs://localhost:9000/DE/Data/069/labels.txt\n",
      "hdfs://localhost:9000/DE/Data/073/labels.txt\n",
      "hdfs://localhost:9000/DE/Data/075/labels.txt\n",
      "hdfs://localhost:9000/DE/Data/076/labels.txt\n",
      "hdfs://localhost:9000/DE/Data/078/labels.txt\n",
      "hdfs://localhost:9000/DE/Data/080/labels.txt\n",
      "hdfs://localhost:9000/DE/Data/081/labels.txt\n",
      "hdfs://localhost:9000/DE/Data/082/labels.txt\n",
      "hdfs://localhost:9000/DE/Data/084/labels.txt\n",
      "hdfs://localhost:9000/DE/Data/085/labels.txt\n",
      "hdfs://localhost:9000/DE/Data/086/labels.txt\n",
      "hdfs://localhost:9000/DE/Data/087/labels.txt\n",
      "hdfs://localhost:9000/DE/Data/088/labels.txt\n",
      "hdfs://localhost:9000/DE/Data/089/labels.txt\n",
      "hdfs://localhost:9000/DE/Data/091/labels.txt\n",
      "hdfs://localhost:9000/DE/Data/092/labels.txt\n",
      "hdfs://localhost:9000/DE/Data/096/labels.txt\n",
      "hdfs://localhost:9000/DE/Data/097/labels.txt\n",
      "hdfs://localhost:9000/DE/Data/098/labels.txt\n",
      "hdfs://localhost:9000/DE/Data/100/labels.txt\n",
      "hdfs://localhost:9000/DE/Data/101/labels.txt\n",
      "hdfs://localhost:9000/DE/Data/102/labels.txt\n",
      "hdfs://localhost:9000/DE/Data/104/labels.txt\n",
      "hdfs://localhost:9000/DE/Data/105/labels.txt\n",
      "hdfs://localhost:9000/DE/Data/106/labels.txt\n",
      "hdfs://localhost:9000/DE/Data/107/labels.txt\n",
      "hdfs://localhost:9000/DE/Data/108/labels.txt\n",
      "hdfs://localhost:9000/DE/Data/110/labels.txt\n",
      "hdfs://localhost:9000/DE/Data/111/labels.txt\n",
      "hdfs://localhost:9000/DE/Data/112/labels.txt\n",
      "hdfs://localhost:9000/DE/Data/114/labels.txt\n",
      "hdfs://localhost:9000/DE/Data/115/labels.txt\n",
      "hdfs://localhost:9000/DE/Data/116/labels.txt\n",
      "hdfs://localhost:9000/DE/Data/117/labels.txt\n",
      "hdfs://localhost:9000/DE/Data/118/labels.txt\n",
      "hdfs://localhost:9000/DE/Data/124/labels.txt\n",
      "hdfs://localhost:9000/DE/Data/125/labels.txt\n",
      "hdfs://localhost:9000/DE/Data/126/labels.txt\n",
      "hdfs://localhost:9000/DE/Data/128/labels.txt\n",
      "hdfs://localhost:9000/DE/Data/129/labels.txt\n",
      "hdfs://localhost:9000/DE/Data/136/labels.txt\n",
      "hdfs://localhost:9000/DE/Data/138/labels.txt\n",
      "hdfs://localhost:9000/DE/Data/139/labels.txt\n",
      "hdfs://localhost:9000/DE/Data/141/labels.txt\n",
      "hdfs://localhost:9000/DE/Data/144/labels.txt\n",
      "hdfs://localhost:9000/DE/Data/147/labels.txt\n",
      "hdfs://localhost:9000/DE/Data/153/labels.txt\n",
      "hdfs://localhost:9000/DE/Data/154/labels.txt\n",
      "hdfs://localhost:9000/DE/Data/161/labels.txt\n",
      "hdfs://localhost:9000/DE/Data/163/labels.txt\n",
      "hdfs://localhost:9000/DE/Data/167/labels.txt\n",
      "hdfs://localhost:9000/DE/Data/170/labels.txt\n",
      "hdfs://localhost:9000/DE/Data/174/labels.txt\n",
      "hdfs://localhost:9000/DE/Data/175/labels.txt\n",
      "hdfs://localhost:9000/DE/Data/179/labels.txt\n"
     ]
    }
   ],
   "source": [
    "start = time.time()\n",
    "for k in range(182):\n",
    "    directory, saveloc = fileDir(k)\n",
    "    try:\n",
    "        rdd = spark1.sparkContext.textFile(directory)\n",
    "        rdd.collect()\n",
    "        lst = rdd.collect()\n",
    "        for i in range(len(lst)):\n",
    "            lst[i] = lst[i].split('\\t')\n",
    "        column = lst[0]\n",
    "        lst = lst[1:]\n",
    "        df = pd.DataFrame(lst, columns = column)\n",
    "        df.to_sql(saveloc,sqlEngine2,if_exists='replace')\n",
    "        print(directory)\n",
    "    except:\n",
    "        pass\n",
    "end = time.time()"
   ]
  },
  {
   "cell_type": "code",
   "execution_count": 30,
   "id": "ad65a7bc",
   "metadata": {},
   "outputs": [
    {
     "data": {
      "text/plain": [
       "9.370195865631104"
      ]
     },
     "execution_count": 30,
     "metadata": {},
     "output_type": "execute_result"
    }
   ],
   "source": [
    "exec_time = end - start\n",
    "exec_time"
   ]
  }
 ],
 "metadata": {
  "kernelspec": {
   "display_name": "Python 3 (ipykernel)",
   "language": "python",
   "name": "python3"
  },
  "language_info": {
   "codemirror_mode": {
    "name": "ipython",
    "version": 3
   },
   "file_extension": ".py",
   "mimetype": "text/x-python",
   "name": "python",
   "nbconvert_exporter": "python",
   "pygments_lexer": "ipython3",
   "version": "3.10.6"
  }
 },
 "nbformat": 4,
 "nbformat_minor": 5
}
