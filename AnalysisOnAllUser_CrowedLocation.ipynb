{
 "cells": [
  {
   "cell_type": "code",
   "execution_count": 1,
   "metadata": {},
   "outputs": [],
   "source": [
    "import numpy as np\n",
    "import pandas as pd"
   ]
  },
  {
   "cell_type": "code",
   "execution_count": 2,
   "metadata": {},
   "outputs": [],
   "source": [
    "col_list = ['User', 'Latitude','Longitude']"
   ]
  },
  {
   "cell_type": "code",
   "execution_count": 3,
   "metadata": {},
   "outputs": [],
   "source": [
    "df = pd.read_csv('all_trajectory.csv',usecols=col_list)"
   ]
  },
  {
   "cell_type": "code",
   "execution_count": 4,
   "metadata": {},
   "outputs": [
    {
     "data": {
      "text/html": [
       "<div>\n",
       "<style scoped>\n",
       "    .dataframe tbody tr th:only-of-type {\n",
       "        vertical-align: middle;\n",
       "    }\n",
       "\n",
       "    .dataframe tbody tr th {\n",
       "        vertical-align: top;\n",
       "    }\n",
       "\n",
       "    .dataframe thead th {\n",
       "        text-align: right;\n",
       "    }\n",
       "</style>\n",
       "<table border=\"1\" class=\"dataframe\">\n",
       "  <thead>\n",
       "    <tr style=\"text-align: right;\">\n",
       "      <th></th>\n",
       "      <th>User</th>\n",
       "      <th>Latitude</th>\n",
       "      <th>Longitude</th>\n",
       "    </tr>\n",
       "  </thead>\n",
       "  <tbody>\n",
       "    <tr>\n",
       "      <th>0</th>\n",
       "      <td>0</td>\n",
       "      <td>39.984702</td>\n",
       "      <td>116.318417</td>\n",
       "    </tr>\n",
       "    <tr>\n",
       "      <th>1</th>\n",
       "      <td>0</td>\n",
       "      <td>39.984683</td>\n",
       "      <td>116.318450</td>\n",
       "    </tr>\n",
       "    <tr>\n",
       "      <th>2</th>\n",
       "      <td>0</td>\n",
       "      <td>39.984686</td>\n",
       "      <td>116.318417</td>\n",
       "    </tr>\n",
       "    <tr>\n",
       "      <th>3</th>\n",
       "      <td>0</td>\n",
       "      <td>39.984688</td>\n",
       "      <td>116.318385</td>\n",
       "    </tr>\n",
       "    <tr>\n",
       "      <th>4</th>\n",
       "      <td>0</td>\n",
       "      <td>39.984655</td>\n",
       "      <td>116.318263</td>\n",
       "    </tr>\n",
       "    <tr>\n",
       "      <th>...</th>\n",
       "      <td>...</td>\n",
       "      <td>...</td>\n",
       "      <td>...</td>\n",
       "    </tr>\n",
       "    <tr>\n",
       "      <th>25050843</th>\n",
       "      <td>181</td>\n",
       "      <td>40.914867</td>\n",
       "      <td>111.710500</td>\n",
       "    </tr>\n",
       "    <tr>\n",
       "      <th>25050844</th>\n",
       "      <td>181</td>\n",
       "      <td>40.914267</td>\n",
       "      <td>111.710333</td>\n",
       "    </tr>\n",
       "    <tr>\n",
       "      <th>25050845</th>\n",
       "      <td>181</td>\n",
       "      <td>40.912467</td>\n",
       "      <td>111.710667</td>\n",
       "    </tr>\n",
       "    <tr>\n",
       "      <th>25050846</th>\n",
       "      <td>181</td>\n",
       "      <td>40.911517</td>\n",
       "      <td>111.711317</td>\n",
       "    </tr>\n",
       "    <tr>\n",
       "      <th>25050847</th>\n",
       "      <td>181</td>\n",
       "      <td>40.910933</td>\n",
       "      <td>111.711617</td>\n",
       "    </tr>\n",
       "  </tbody>\n",
       "</table>\n",
       "<p>25050848 rows × 3 columns</p>\n",
       "</div>"
      ],
      "text/plain": [
       "          User   Latitude   Longitude\n",
       "0            0  39.984702  116.318417\n",
       "1            0  39.984683  116.318450\n",
       "2            0  39.984686  116.318417\n",
       "3            0  39.984688  116.318385\n",
       "4            0  39.984655  116.318263\n",
       "...        ...        ...         ...\n",
       "25050843   181  40.914867  111.710500\n",
       "25050844   181  40.914267  111.710333\n",
       "25050845   181  40.912467  111.710667\n",
       "25050846   181  40.911517  111.711317\n",
       "25050847   181  40.910933  111.711617\n",
       "\n",
       "[25050848 rows x 3 columns]"
      ]
     },
     "execution_count": 4,
     "metadata": {},
     "output_type": "execute_result"
    }
   ],
   "source": [
    "df"
   ]
  },
  {
   "attachments": {},
   "cell_type": "markdown",
   "metadata": {},
   "source": [
    "Find the most favorite location of all users"
   ]
  },
  {
   "attachments": {},
   "cell_type": "markdown",
   "metadata": {},
   "source": [
    "Assum:\n",
    "Smallest division is 1km2\n",
    "0.01 deg Latitude = 1km\n",
    "0.01 deg Longitude = 1km\n",
    "https://www.nhc.noaa.gov/gccalc.shtml"
   ]
  },
  {
   "cell_type": "code",
   "execution_count": 5,
   "metadata": {},
   "outputs": [
    {
     "data": {
      "text/html": [
       "<div>\n",
       "<style scoped>\n",
       "    .dataframe tbody tr th:only-of-type {\n",
       "        vertical-align: middle;\n",
       "    }\n",
       "\n",
       "    .dataframe tbody tr th {\n",
       "        vertical-align: top;\n",
       "    }\n",
       "\n",
       "    .dataframe thead th {\n",
       "        text-align: right;\n",
       "    }\n",
       "</style>\n",
       "<table border=\"1\" class=\"dataframe\">\n",
       "  <thead>\n",
       "    <tr style=\"text-align: right;\">\n",
       "      <th></th>\n",
       "      <th>User</th>\n",
       "      <th>Latitude</th>\n",
       "      <th>Longitude</th>\n",
       "    </tr>\n",
       "  </thead>\n",
       "  <tbody>\n",
       "    <tr>\n",
       "      <th>0</th>\n",
       "      <td>0</td>\n",
       "      <td>39.98</td>\n",
       "      <td>116.32</td>\n",
       "    </tr>\n",
       "    <tr>\n",
       "      <th>1</th>\n",
       "      <td>0</td>\n",
       "      <td>39.98</td>\n",
       "      <td>116.32</td>\n",
       "    </tr>\n",
       "    <tr>\n",
       "      <th>2</th>\n",
       "      <td>0</td>\n",
       "      <td>39.98</td>\n",
       "      <td>116.32</td>\n",
       "    </tr>\n",
       "    <tr>\n",
       "      <th>3</th>\n",
       "      <td>0</td>\n",
       "      <td>39.98</td>\n",
       "      <td>116.32</td>\n",
       "    </tr>\n",
       "    <tr>\n",
       "      <th>4</th>\n",
       "      <td>0</td>\n",
       "      <td>39.98</td>\n",
       "      <td>116.32</td>\n",
       "    </tr>\n",
       "    <tr>\n",
       "      <th>...</th>\n",
       "      <td>...</td>\n",
       "      <td>...</td>\n",
       "      <td>...</td>\n",
       "    </tr>\n",
       "    <tr>\n",
       "      <th>25050843</th>\n",
       "      <td>181</td>\n",
       "      <td>40.91</td>\n",
       "      <td>111.71</td>\n",
       "    </tr>\n",
       "    <tr>\n",
       "      <th>25050844</th>\n",
       "      <td>181</td>\n",
       "      <td>40.91</td>\n",
       "      <td>111.71</td>\n",
       "    </tr>\n",
       "    <tr>\n",
       "      <th>25050845</th>\n",
       "      <td>181</td>\n",
       "      <td>40.91</td>\n",
       "      <td>111.71</td>\n",
       "    </tr>\n",
       "    <tr>\n",
       "      <th>25050846</th>\n",
       "      <td>181</td>\n",
       "      <td>40.91</td>\n",
       "      <td>111.71</td>\n",
       "    </tr>\n",
       "    <tr>\n",
       "      <th>25050847</th>\n",
       "      <td>181</td>\n",
       "      <td>40.91</td>\n",
       "      <td>111.71</td>\n",
       "    </tr>\n",
       "  </tbody>\n",
       "</table>\n",
       "<p>25050848 rows × 3 columns</p>\n",
       "</div>"
      ],
      "text/plain": [
       "          User  Latitude  Longitude\n",
       "0            0     39.98     116.32\n",
       "1            0     39.98     116.32\n",
       "2            0     39.98     116.32\n",
       "3            0     39.98     116.32\n",
       "4            0     39.98     116.32\n",
       "...        ...       ...        ...\n",
       "25050843   181     40.91     111.71\n",
       "25050844   181     40.91     111.71\n",
       "25050845   181     40.91     111.71\n",
       "25050846   181     40.91     111.71\n",
       "25050847   181     40.91     111.71\n",
       "\n",
       "[25050848 rows x 3 columns]"
      ]
     },
     "execution_count": 5,
     "metadata": {},
     "output_type": "execute_result"
    }
   ],
   "source": [
    "AlluserLocation = df.round(2)\n",
    "AlluserLocation"
   ]
  },
  {
   "attachments": {},
   "cell_type": "markdown",
   "metadata": {},
   "source": [
    "for each user, if they come to 1 place many times, we only count 1 time."
   ]
  },
  {
   "cell_type": "code",
   "execution_count": 6,
   "metadata": {},
   "outputs": [
    {
     "data": {
      "text/html": [
       "<div>\n",
       "<style scoped>\n",
       "    .dataframe tbody tr th:only-of-type {\n",
       "        vertical-align: middle;\n",
       "    }\n",
       "\n",
       "    .dataframe tbody tr th {\n",
       "        vertical-align: top;\n",
       "    }\n",
       "\n",
       "    .dataframe thead th {\n",
       "        text-align: right;\n",
       "    }\n",
       "</style>\n",
       "<table border=\"1\" class=\"dataframe\">\n",
       "  <thead>\n",
       "    <tr style=\"text-align: right;\">\n",
       "      <th></th>\n",
       "      <th>User</th>\n",
       "      <th>Latitude</th>\n",
       "      <th>Longitude</th>\n",
       "    </tr>\n",
       "  </thead>\n",
       "  <tbody>\n",
       "    <tr>\n",
       "      <th>0</th>\n",
       "      <td>0</td>\n",
       "      <td>39.98</td>\n",
       "      <td>116.32</td>\n",
       "    </tr>\n",
       "    <tr>\n",
       "      <th>20</th>\n",
       "      <td>0</td>\n",
       "      <td>39.98</td>\n",
       "      <td>116.31</td>\n",
       "    </tr>\n",
       "    <tr>\n",
       "      <th>83</th>\n",
       "      <td>0</td>\n",
       "      <td>39.98</td>\n",
       "      <td>116.30</td>\n",
       "    </tr>\n",
       "    <tr>\n",
       "      <th>148</th>\n",
       "      <td>0</td>\n",
       "      <td>40.00</td>\n",
       "      <td>116.29</td>\n",
       "    </tr>\n",
       "    <tr>\n",
       "      <th>210</th>\n",
       "      <td>0</td>\n",
       "      <td>39.99</td>\n",
       "      <td>116.30</td>\n",
       "    </tr>\n",
       "    <tr>\n",
       "      <th>...</th>\n",
       "      <td>...</td>\n",
       "      <td>...</td>\n",
       "      <td>...</td>\n",
       "    </tr>\n",
       "    <tr>\n",
       "      <th>25050716</th>\n",
       "      <td>181</td>\n",
       "      <td>28.13</td>\n",
       "      <td>113.02</td>\n",
       "    </tr>\n",
       "    <tr>\n",
       "      <th>25050718</th>\n",
       "      <td>181</td>\n",
       "      <td>28.13</td>\n",
       "      <td>113.03</td>\n",
       "    </tr>\n",
       "    <tr>\n",
       "      <th>25050728</th>\n",
       "      <td>181</td>\n",
       "      <td>28.13</td>\n",
       "      <td>113.01</td>\n",
       "    </tr>\n",
       "    <tr>\n",
       "      <th>25050826</th>\n",
       "      <td>181</td>\n",
       "      <td>40.92</td>\n",
       "      <td>111.71</td>\n",
       "    </tr>\n",
       "    <tr>\n",
       "      <th>25050829</th>\n",
       "      <td>181</td>\n",
       "      <td>40.91</td>\n",
       "      <td>111.71</td>\n",
       "    </tr>\n",
       "  </tbody>\n",
       "</table>\n",
       "<p>192743 rows × 3 columns</p>\n",
       "</div>"
      ],
      "text/plain": [
       "          User  Latitude  Longitude\n",
       "0            0     39.98     116.32\n",
       "20           0     39.98     116.31\n",
       "83           0     39.98     116.30\n",
       "148          0     40.00     116.29\n",
       "210          0     39.99     116.30\n",
       "...        ...       ...        ...\n",
       "25050716   181     28.13     113.02\n",
       "25050718   181     28.13     113.03\n",
       "25050728   181     28.13     113.01\n",
       "25050826   181     40.92     111.71\n",
       "25050829   181     40.91     111.71\n",
       "\n",
       "[192743 rows x 3 columns]"
      ]
     },
     "execution_count": 6,
     "metadata": {},
     "output_type": "execute_result"
    }
   ],
   "source": [
    "AlluserLocation=AlluserLocation.drop_duplicates()\n",
    "AlluserLocation"
   ]
  },
  {
   "attachments": {},
   "cell_type": "markdown",
   "metadata": {},
   "source": [
    "Which location most user appeared"
   ]
  },
  {
   "cell_type": "code",
   "execution_count": 13,
   "metadata": {},
   "outputs": [
    {
     "data": {
      "text/plain": [
       "Latitude  Longitude\n",
       "1.04      103.52         1\n",
       "39.29     117.91         1\n",
       "          117.92         1\n",
       "          117.93         1\n",
       "          117.99         1\n",
       "                      ... \n",
       "39.97     116.34       125\n",
       "39.98     116.32       127\n",
       "39.99     116.33       128\n",
       "39.97     116.33       148\n",
       "39.98     116.33       171\n",
       "Name: User, Length: 85023, dtype: int64"
      ]
     },
     "execution_count": 13,
     "metadata": {},
     "output_type": "execute_result"
    }
   ],
   "source": [
    "MostappearlocationCount = AlluserLocation.groupby(['Latitude','Longitude'])['User'].nunique().sort_values(axis=0)\n",
    "MostappearlocationCount"
   ]
  },
  {
   "cell_type": "code",
   "execution_count": 21,
   "metadata": {},
   "outputs": [
    {
     "data": {
      "text/plain": [
       "(39.98, 116.33)"
      ]
     },
     "execution_count": 21,
     "metadata": {},
     "output_type": "execute_result"
    }
   ],
   "source": [
    "MostLocation = MostappearlocationCount[MostappearlocationCount==MostappearlocationCount.max(axis=0)].index[0]\n",
    "MostLocation"
   ]
  },
  {
   "cell_type": "code",
   "execution_count": 16,
   "metadata": {},
   "outputs": [
    {
     "data": {
      "text/plain": [
       "Latitude  Longitude\n",
       "1.04       103.52      [144]\n",
       "           103.53      [144]\n",
       "           103.78      [144]\n",
       "1.05       103.49      [144]\n",
       "           103.50      [144]\n",
       "                       ...  \n",
       "64.39     -171.30      [142]\n",
       "64.40     -170.99      [142]\n",
       "64.65     -179.46      [142]\n",
       "64.75      175.62      [142]\n",
       "400.17     116.22       [20]\n",
       "Name: User, Length: 85023, dtype: object"
      ]
     },
     "execution_count": 16,
     "metadata": {},
     "output_type": "execute_result"
    }
   ],
   "source": [
    "Mostappearlocation = AlluserLocation.groupby(['Latitude','Longitude'])['User'].unique()\n",
    "Mostappearlocation"
   ]
  },
  {
   "cell_type": "code",
   "execution_count": 23,
   "metadata": {},
   "outputs": [
    {
     "data": {
      "text/plain": [
       "array([  0,   1,   2,   3,   4,   5,   6,   7,   8,   9,  10,  11,  12,\n",
       "        13,  14,  15,  16,  17,  18,  19,  20,  21,  22,  23,  24,  25,\n",
       "        26,  27,  28,  29,  30,  31,  32,  33,  34,  35,  36,  37,  38,\n",
       "        39,  40,  41,  42,  43,  44,  45,  46,  47,  48,  49,  50,  51,\n",
       "        52,  53,  55,  56,  57,  58,  59,  60,  61,  62,  63,  64,  65,\n",
       "        66,  67,  68,  70,  71,  72,  73,  74,  75,  76,  77,  78,  79,\n",
       "        80,  81,  82,  83,  84,  85,  86,  87,  88,  89,  90,  91,  92,\n",
       "        93,  94,  95,  96,  97,  98,  99, 100, 101, 102, 103, 104, 105,\n",
       "       106, 107, 108, 109, 110, 111, 112, 113, 114, 115, 116, 117, 119,\n",
       "       121, 122, 124, 125, 126, 127, 128, 129, 130, 131, 133, 134, 135,\n",
       "       136, 138, 139, 140, 141, 142, 144, 146, 147, 148, 149, 150, 151,\n",
       "       152, 153, 154, 155, 157, 158, 159, 161, 162, 163, 164, 165, 166,\n",
       "       167, 168, 169, 170, 171, 172, 173, 174, 175, 176, 177, 178, 179,\n",
       "       180, 181], dtype=int64)"
      ]
     },
     "execution_count": 23,
     "metadata": {},
     "output_type": "execute_result"
    }
   ],
   "source": [
    "UserinMostappearlocation = Mostappearlocation[MostLocation]\n",
    "UserinMostappearlocation"
   ]
  },
  {
   "cell_type": "code",
   "execution_count": 37,
   "metadata": {},
   "outputs": [
    {
     "data": {
      "text/html": [
       "<div>\n",
       "<style scoped>\n",
       "    .dataframe tbody tr th:only-of-type {\n",
       "        vertical-align: middle;\n",
       "    }\n",
       "\n",
       "    .dataframe tbody tr th {\n",
       "        vertical-align: top;\n",
       "    }\n",
       "\n",
       "    .dataframe thead th {\n",
       "        text-align: right;\n",
       "    }\n",
       "</style>\n",
       "<table border=\"1\" class=\"dataframe\">\n",
       "  <thead>\n",
       "    <tr style=\"text-align: right;\">\n",
       "      <th></th>\n",
       "      <th>0</th>\n",
       "    </tr>\n",
       "  </thead>\n",
       "  <tbody>\n",
       "    <tr>\n",
       "      <th>0</th>\n",
       "      <td>39.98</td>\n",
       "    </tr>\n",
       "    <tr>\n",
       "      <th>1</th>\n",
       "      <td>116.33</td>\n",
       "    </tr>\n",
       "  </tbody>\n",
       "</table>\n",
       "</div>"
      ],
      "text/plain": [
       "        0\n",
       "0   39.98\n",
       "1  116.33"
      ]
     },
     "execution_count": 37,
     "metadata": {},
     "output_type": "execute_result"
    }
   ],
   "source": [
    "MostLocation"
   ]
  },
  {
   "cell_type": "code",
   "execution_count": 40,
   "metadata": {},
   "outputs": [],
   "source": [
    "MostLocationPd = pd.DataFrame(MostLocation)\n",
    "MostLocationPd.to_csv('MostLocation.csv')"
   ]
  },
  {
   "cell_type": "code",
   "execution_count": 41,
   "metadata": {},
   "outputs": [],
   "source": [
    "UserinMostappearlocationPd = pd.DataFrame(UserinMostappearlocation)\n",
    "UserinMostappearlocationPd.to_csv('UserinMostappearlocation.csv')"
   ]
  }
 ],
 "metadata": {
  "kernelspec": {
   "display_name": "Python 3",
   "language": "python",
   "name": "python3"
  },
  "language_info": {
   "codemirror_mode": {
    "name": "ipython",
    "version": 3
   },
   "file_extension": ".py",
   "mimetype": "text/x-python",
   "name": "python",
   "nbconvert_exporter": "python",
   "pygments_lexer": "ipython3",
   "version": "3.10.11"
  },
  "orig_nbformat": 4
 },
 "nbformat": 4,
 "nbformat_minor": 2
}
