{
  "nbformat": 4,
  "nbformat_minor": 0,
  "metadata": {
    "colab": {
      "provenance": [],
      "authorship_tag": "ABX9TyPXQqv0I5Yf0+UIAit2v/I1",
      "include_colab_link": true
    },
    "kernelspec": {
      "name": "python3",
      "display_name": "Python 3"
    },
    "language_info": {
      "name": "python"
    }
  },
  "cells": [
    {
      "cell_type": "markdown",
      "metadata": {
        "id": "view-in-github",
        "colab_type": "text"
      },
      "source": [
        "<a href=\"https://colab.research.google.com/github/Prosecutor22/TrajectoryAnalysis/blob/main/Python_Finance_cafef.ipynb\" target=\"_parent\"><img src=\"https://colab.research.google.com/assets/colab-badge.svg\" alt=\"Open In Colab\"/></a>"
      ]
    },
    {
      "cell_type": "markdown",
      "source": [
        "https://www.youtube.com/watch?v=q_MWWVgghsQ&t=75s\n",
        "Python for Finance #1 - Introduction and Getting Real Time Stock Data"
      ],
      "metadata": {
        "id": "7u-ZjnZh5k9p"
      }
    },
    {
      "cell_type": "code",
      "execution_count": 1,
      "metadata": {
        "id": "s4DO0b9E5foI"
      },
      "outputs": [],
      "source": [
        "import pandas as pd\n",
        "import datetime\n",
        "import requests\n",
        "from requests.exceptions import ConnectionError\n",
        "from bs4 import BeautifulSoup"
      ]
    },
    {
      "cell_type": "code",
      "source": [
        "\n",
        "def web_content_div(web_content, class_path):\n",
        "  web_content_div = web_content.find_all('div',{'class':class_path})\n",
        "  try:\n",
        "    spans = web_content_div[0].find_all('span')\n",
        "    texts = [span.get_text() for span in spans]\n",
        "  except IndexError:\n",
        "    texts = []\n",
        "  return texts\n",
        "\n",
        "\n",
        "def real_time_price(stock_code):\n",
        "  url= 'https://s.cafef.vn' + stock_code\n",
        "  try:\n",
        "    r = requests.get(url)\n",
        "    web_content = BeautifulSoup(r.text, 'html')\n",
        "    texts = web_content_div(web_content,'dltl-wrap')\n",
        "    if texts != []:\n",
        "      price, change = texts[0],texts[1]\n",
        "    else:\n",
        "      price, change = [],[]\n",
        "  except ConnectionError:\n",
        "    price, change = [],[]\n",
        "  return price, change\n"
      ],
      "metadata": {
        "id": "KhZmCA6xViee"
      },
      "execution_count": 2,
      "outputs": []
    },
    {
      "cell_type": "code",
      "source": [
        "Stock = ['/hose/fpt-cong-ty-co-phan-fpt.chn']"
      ],
      "metadata": {
        "id": "GKGBlKPPVnTh"
      },
      "execution_count": 3,
      "outputs": []
    },
    {
      "cell_type": "code",
      "source": [
        "type(Stock)"
      ],
      "metadata": {
        "colab": {
          "base_uri": "https://localhost:8080/"
        },
        "id": "i4W8ZKFh5HFT",
        "outputId": "d1837ec8-aa59-4fff-ccb1-b466130d3f95"
      },
      "execution_count": 4,
      "outputs": [
        {
          "output_type": "execute_result",
          "data": {
            "text/plain": [
              "list"
            ]
          },
          "metadata": {},
          "execution_count": 4
        }
      ]
    },
    {
      "cell_type": "code",
      "source": [
        "real_time_price(Stock[0])"
      ],
      "metadata": {
        "colab": {
          "base_uri": "https://localhost:8080/"
        },
        "id": "s0aqV7HBfC6u",
        "outputId": "1dbd64ab-c822-4789-e161-8f6f357f1b03"
      },
      "execution_count": 5,
      "outputs": [
        {
          "output_type": "execute_result",
          "data": {
            "text/plain": [
              "('95', '\\xa0 -0.6 (-0.63%)')"
            ]
          },
          "metadata": {},
          "execution_count": 5
        }
      ]
    },
    {
      "cell_type": "code",
      "source": [
        "stock_code='/hose/fpt-cong-ty-co-phan-fpt.chn'"
      ],
      "metadata": {
        "id": "_vJ3oSgt34tj"
      },
      "execution_count": 6,
      "outputs": []
    },
    {
      "cell_type": "code",
      "source": [
        "url= 'https://s.cafef.vn' + stock_code"
      ],
      "metadata": {
        "id": "j0ZRWSdR3zBG"
      },
      "execution_count": 7,
      "outputs": []
    },
    {
      "cell_type": "code",
      "source": [
        "print(url)"
      ],
      "metadata": {
        "colab": {
          "base_uri": "https://localhost:8080/"
        },
        "id": "a4dIfc9q4JPT",
        "outputId": "1f60d997-9956-495e-aa4d-1e85ed22e4d0"
      },
      "execution_count": 8,
      "outputs": [
        {
          "output_type": "stream",
          "name": "stdout",
          "text": [
            "https://s.cafef.vn/hose/fpt-cong-ty-co-phan-fpt.chn\n"
          ]
        }
      ]
    },
    {
      "cell_type": "code",
      "source": [
        "page = requests.get(url)"
      ],
      "metadata": {
        "id": "HD3urEEO4d1O"
      },
      "execution_count": 9,
      "outputs": []
    },
    {
      "cell_type": "code",
      "source": [
        "soup = BeautifulSoup(page.text,'html')"
      ],
      "metadata": {
        "id": "Ts2NWc29xEFP"
      },
      "execution_count": 10,
      "outputs": []
    },
    {
      "cell_type": "code",
      "source": [
        "div=soup.find_all('div',{'class':'dltl-wrap'})"
      ],
      "metadata": {
        "id": "MXUeGJQ_xNaH"
      },
      "execution_count": 11,
      "outputs": []
    },
    {
      "cell_type": "code",
      "source": [
        "spans = div[0].find_all('span')"
      ],
      "metadata": {
        "id": "z-2uBakOzMsw"
      },
      "execution_count": 12,
      "outputs": []
    },
    {
      "cell_type": "code",
      "source": [
        "print(spans)"
      ],
      "metadata": {
        "colab": {
          "base_uri": "https://localhost:8080/"
        },
        "id": "ODAJ1hfWzeyQ",
        "outputId": "debffa07-60d4-42bb-93ac-3388b7b509fe"
      },
      "execution_count": 13,
      "outputs": [
        {
          "output_type": "stream",
          "name": "stdout",
          "text": [
            "[<span id=\"ltrCurentPrice\"><div class=\"dltlu-point down\">95</div></span>, <span id=\"ltrChanged\"><div class=\"dltlu-down red\">  -0.6 (-0.63%)</div></span>]\n"
          ]
        }
      ]
    },
    {
      "cell_type": "code",
      "source": [
        "texts = [span.get_text() for span in spans]"
      ],
      "metadata": {
        "id": "X8r7Ne9d1MvU"
      },
      "execution_count": 14,
      "outputs": []
    },
    {
      "cell_type": "code",
      "source": [
        "print(texts)"
      ],
      "metadata": {
        "colab": {
          "base_uri": "https://localhost:8080/"
        },
        "id": "zngYDsot05uJ",
        "outputId": "ec1960b7-ee38-46dc-f785-41e959d498b0"
      },
      "execution_count": 15,
      "outputs": [
        {
          "output_type": "stream",
          "name": "stdout",
          "text": [
            "['95', '\\xa0 -0.6 (-0.63%)']\n"
          ]
        }
      ]
    },
    {
      "cell_type": "code",
      "source": [
        "texts"
      ],
      "metadata": {
        "colab": {
          "base_uri": "https://localhost:8080/"
        },
        "id": "xxgnwuAL1iOy",
        "outputId": "21a91273-aa4f-4d7e-89f6-cece82139a46"
      },
      "execution_count": 16,
      "outputs": [
        {
          "output_type": "execute_result",
          "data": {
            "text/plain": [
              "['95', '\\xa0 -0.6 (-0.63%)']"
            ]
          },
          "metadata": {},
          "execution_count": 16
        }
      ]
    }
  ]
}